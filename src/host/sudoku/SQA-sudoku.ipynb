{
 "cells": [
  {
   "cell_type": "code",
   "execution_count": 41,
   "metadata": {},
   "outputs": [],
   "source": [
    "from __future__ import print_function\n",
    "\n",
    "import sys\n",
    "import numpy as np\n",
    "from time import time\n",
    "import matplotlib.pyplot as plt \n",
    "from tqdm import tqdm\n",
    "import math\n",
    "import struct\n",
    "import binascii\n",
    "\n",
    "sys.path.append('/home/xilinx')\n",
    "from pynq import Overlay\n",
    "from pynq import allocate"
   ]
  },
  {
   "cell_type": "code",
   "execution_count": 42,
   "metadata": {},
   "outputs": [],
   "source": [
    "SUDOKU_BLOCK_LEN = 3\n",
    "SUDOKU_BOARD_LEN = SUDOKU_BLOCK_LEN * SUDOKU_BLOCK_LEN"
   ]
  },
  {
   "cell_type": "code",
   "execution_count": 43,
   "metadata": {},
   "outputs": [],
   "source": [
    "def float2bytes(fp):\n",
    "    packNo = struct.pack('>f', np.float32(fp))\n",
    "    return int(binascii.b2a_hex(packNo), 16)"
   ]
  },
  {
   "cell_type": "code",
   "execution_count": 44,
   "metadata": {
    "scrolled": true
   },
   "outputs": [
    {
     "name": "stdout",
     "output_type": "stream",
     "text": [
      "Entry: /usr/lib/python3/dist-packages/ipykernel_launcher.py\n",
      "System argument(s): 3\n",
      "Start of \"/usr/lib/python3/dist-packages/ipykernel_launcher.py\"\n"
     ]
    }
   ],
   "source": [
    "print(\"Entry:\", sys.argv[0])\n",
    "print(\"System argument(s):\", len(sys.argv))\n",
    "print(\"Start of \\\"\" + sys.argv[0] + \"\\\"\")"
   ]
  },
  {
   "cell_type": "code",
   "execution_count": 45,
   "metadata": {},
   "outputs": [],
   "source": [
    "MAX_NTROT=8\n",
    "MAX_NSPIN=1024"
   ]
  },
  {
   "cell_type": "code",
   "execution_count": 46,
   "metadata": {},
   "outputs": [],
   "source": [
    "# Number of Spins and Number of Trotters and Wirte Trotters\n",
    "numSpins = SUDOKU_BOARD_LEN ** 3\n",
    "numTrotters = 2\n",
    "trotters = np.random.randint(2, size=(MAX_NTROT*MAX_NSPIN), dtype=int)"
   ]
  },
  {
   "cell_type": "code",
   "execution_count": 47,
   "metadata": {},
   "outputs": [],
   "source": [
    "# read sudoku board and answer\n",
    "sudoku = []\n",
    "sudoku_sol = []\n",
    "\n",
    "with open('board.in') as bin_f, open('board.ans') as bans_f:\n",
    "    for line in bin_f:\n",
    "        sudoku.append([int(x) for x in line.split()])\n",
    "\n",
    "    for line in bans_f:\n",
    "        sudoku_sol.append([int(x) for x in line.split()])"
   ]
  },
  {
   "cell_type": "code",
   "execution_count": 48,
   "metadata": {
    "scrolled": true
   },
   "outputs": [
    {
     "data": {
      "text/plain": [
       "[[1, 0, 8, 3, 5, 2, 7, 9, 4],\n",
       " [7, 4, 9, 1, 6, 8, 3, 2, 5],\n",
       " [3, 5, 2, 7, 0, 0, 1, 8, 6],\n",
       " [9, 7, 6, 8, 1, 5, 2, 4, 3],\n",
       " [8, 1, 5, 2, 3, 4, 9, 6, 7],\n",
       " [2, 0, 4, 0, 7, 6, 8, 5, 1],\n",
       " [6, 9, 1, 5, 8, 3, 4, 7, 2],\n",
       " [5, 8, 3, 4, 2, 7, 6, 1, 9],\n",
       " [4, 2, 7, 6, 9, 1, 5, 3, 8]]"
      ]
     },
     "execution_count": 48,
     "metadata": {},
     "output_type": "execute_result"
    }
   ],
   "source": [
    "sudoku"
   ]
  },
  {
   "cell_type": "code",
   "execution_count": 49,
   "metadata": {},
   "outputs": [
    {
     "data": {
      "text/plain": [
       "[[1, 6, 8, 3, 5, 2, 7, 9, 4],\n",
       " [7, 4, 9, 1, 6, 8, 3, 2, 5],\n",
       " [3, 5, 2, 7, 4, 9, 1, 8, 6],\n",
       " [9, 7, 6, 8, 1, 5, 2, 4, 3],\n",
       " [8, 1, 5, 2, 3, 4, 9, 6, 7],\n",
       " [2, 3, 4, 9, 7, 6, 8, 5, 1],\n",
       " [6, 9, 1, 5, 8, 3, 4, 7, 2],\n",
       " [5, 8, 3, 4, 2, 7, 6, 1, 9],\n",
       " [4, 2, 7, 6, 9, 1, 5, 3, 8]]"
      ]
     },
     "execution_count": 49,
     "metadata": {},
     "output_type": "execute_result"
    }
   ],
   "source": [
    "sudoku_sol"
   ]
  },
  {
   "cell_type": "code",
   "execution_count": 50,
   "metadata": {},
   "outputs": [],
   "source": [
    "# init constraint and trotters value\n",
    "constraint = np.ones(SUDOKU_BOARD_LEN * SUDOKU_BOARD_LEN, dtype=bool)\n",
    "\n",
    "for m in range(numTrotters):\n",
    "    for i in range(SUDOKU_BOARD_LEN):\n",
    "        for j in range(SUDOKU_BOARD_LEN):\n",
    "            if (sudoku[i][j] != 0):\n",
    "                color = sudoku[i][j] - 1;\n",
    "                node_idx = i * SUDOKU_BOARD_LEN + j\n",
    "                constraint[node_idx] = False\n",
    "                # reset hint value for trotter\n",
    "                spin_start = node_idx * SUDOKU_BOARD_LEN\n",
    "                for k in range(spin_start, spin_start + SUDOKU_BOARD_LEN):\n",
    "                    trotter_spin_idx = m * MAX_NSPIN + k\n",
    "                    if k == spin_start + color:\n",
    "                        trotters[trotter_spin_idx] = 1\n",
    "                    else:\n",
    "                        trotters[trotter_spin_idx] = 0"
   ]
  },
  {
   "cell_type": "code",
   "execution_count": 52,
   "metadata": {},
   "outputs": [],
   "source": [
    "# read Jcoup\n",
    "inBuffer0 = allocate(shape=(numSpins*numSpins), dtype=np.float32)\n",
    "J = np.zeros((numSpins,numSpins), dtype=np.float32)\n",
    "\n",
    "with open('J.in') as f:\n",
    "    for row, line in enumerate(f):\n",
    "        tok = [float(x) for x in line.split()]\n",
    "        for col, j in enumerate(tok):\n",
    "            inBuffer0[row * numSpins + col] = j\n",
    "            J[row][col] = j"
   ]
  },
  {
   "cell_type": "code",
   "execution_count": 53,
   "metadata": {},
   "outputs": [],
   "source": [
    "# read h\n",
    "h = []\n",
    "with open('h.in') as f:\n",
    "    for line in f:\n",
    "        h.append(float(line))"
   ]
  },
  {
   "cell_type": "code",
   "execution_count": 54,
   "metadata": {},
   "outputs": [
    {
     "name": "stderr",
     "output_type": "stream",
     "text": [
      "100%|██████████| 2048/2048 [00:00<00:00, 11730.17it/s]\n"
     ]
    }
   ],
   "source": [
    "# Overlay and IP\n",
    "ol = Overlay(\"/home/xilinx/jupyter_notebooks/ykzheng/SQA_Opt5S.bit\")\n",
    "ipSQA = ol.QuantumMonteCarloOpt_0\n",
    "ipDMAIn = ol.axi_dma_0\n",
    "\n",
    "k = 0\n",
    "for addr in tqdm(range(0x400, 0x2400, 0x04)):\n",
    "    # 8 * 1024 * 1 Byte (it extend boolean into uint8)\n",
    "    tmp = (trotters[k+3] << 24) + (trotters[k+2] << 16) + (trotters[k+1] << 8) + (trotters[k])\n",
    "    ipSQA.write(addr, int(tmp))\n",
    "    k += 4"
   ]
  },
  {
   "cell_type": "code",
   "execution_count": 55,
   "metadata": {},
   "outputs": [],
   "source": [
    "# Some Constant Kernel Arguments    \n",
    "ipSQA.write(0x10, numTrotters) # nTrot\n",
    "ipSQA.write(0x18, numSpins) # nSpin\n",
    "ipSQA.write(0x3410, SUDOKU_BOARD_LEN) # boardLen\n",
    "for addr in range(0x2400, 0x3400, 0x04):\n",
    "    ipSQA.write(addr, float2bytes(-8.5)) # h[i]"
   ]
  },
  {
   "cell_type": "code",
   "execution_count": 56,
   "metadata": {
    "scrolled": false
   },
   "outputs": [],
   "source": [
    "# todo: send kernel arguments: constraint and board len\n",
    "constraint_addr = (\n",
    "    (0x3480, 0x3500),\n",
    "    (0x3500, 0x3580),\n",
    "    (0x3580, 0x3600),\n",
    "    (0x3600, 0x3680),\n",
    "    (0x3680, 0x3700),\n",
    "    (0x3700, 0x3780),\n",
    "    (0x3780, 0x3800),\n",
    "    (0x3800, 0x3880),\n",
    ")\n",
    "\n",
    "constraint_protect = lambda i : int(constraint[i]) if i < len(constraint) else 0\n",
    "\n",
    "for addr_start, addr_end in constraint_addr:\n",
    "    k = 0\n",
    "    for addr in range(addr_start, addr_end, 0x4):\n",
    "        tmp = (constraint_protect(k+3) << 24) + (constraint_protect(k+2) << 16) + (constraint_protect(k+1) << 8) + (constraint_protect(k))\n",
    "        ipSQA.write(addr, int(tmp))\n",
    "        k += 4"
   ]
  },
  {
   "cell_type": "code",
   "execution_count": 69,
   "metadata": {
    "scrolled": true
   },
   "outputs": [
    {
     "name": "stderr",
     "output_type": "stream",
     "text": [
      "100%|██████████| 1000/1000 [02:15<00:00,  7.32it/s]"
     ]
    },
    {
     "name": "stdout",
     "output_type": "stream",
     "text": [
      "Kernel execution time: 52.1875731945 s\n"
     ]
    },
    {
     "name": "stderr",
     "output_type": "stream",
     "text": [
      "\n"
     ]
    }
   ],
   "source": [
    "# Iterations Parameters\n",
    "iter = 1000\n",
    "maxBeta = 1 / 0.15\n",
    "Beta = 1 / 0.4\n",
    "G0 = 0.0001\n",
    "dBeta = (maxBeta-Beta) / iter\n",
    "\n",
    "# Iterations\n",
    "timeList = []\n",
    "trottersList = []\n",
    "for i in tqdm(range(iter)):\n",
    "\n",
    "    # Write Random Numbers (8*1024*4Bytes)\n",
    "#     rn = np.random.uniform(0.0, 1.0, size=numTrotters*numSpins)\n",
    "#     rn = np.log(rn) * numTrotters\n",
    "\n",
    "    # Generate Jperp\n",
    "    Gamma = G0 * (1.0 - i/iter)\n",
    "    Jperp = -0.5 * np.log(np.tanh((Gamma/numTrotters) * Beta)) / Beta\n",
    "\n",
    "    # Write Random Nubmers\n",
    "#     k = 0\n",
    "#     for addr in range(0x4000, 0xC000, 0x04):\n",
    "#         ipSQA.write(addr, float2bytes(rn[k]))\n",
    "#         k += 1\n",
    "\n",
    "    # Write Beta & Jperp\n",
    "    ipSQA.write(0x3400, float2bytes(Jperp))\n",
    "    ipSQA.write(0x3408, float2bytes(Beta))\n",
    "    \n",
    "    timeKernelStart = time()\n",
    "    # Start Kernel\n",
    "    ipSQA.write(0x00, 0x01)\n",
    "\n",
    "    # Write Jcoup Stream\n",
    "    ipDMAIn.sendchannel.transfer(inBuffer0) # Stream of Jcoup\n",
    "    ipDMAIn.sendchannel.wait()\n",
    "\n",
    "    # Wait at Here\n",
    "    while (ipSQA.read(0x00) & 0x4) == 0x0:\n",
    "        continue\n",
    "    \n",
    "    timeKernelEnd = time()\n",
    "    timeList.append(timeKernelEnd - timeKernelStart)\n",
    "    \n",
    "    # Beta Incremental\n",
    "    Beta += dBeta\n",
    "    \n",
    "    k = 0\n",
    "    newTrotters=np.ndarray(shape=MAX_NTROT*MAX_NSPIN, dtype=np.int)\n",
    "    for addr in range(0x400, 0x2400, 0x04):\n",
    "        # 8 * 1024 * 1 Byte (it extend boolean into uint8)\n",
    "        tmp = ipSQA.read(addr)\n",
    "        newTrotters[k] = (tmp) & 0x01\n",
    "        newTrotters[k+1] = (tmp>>8) & 0x01\n",
    "        newTrotters[k+2] = (tmp>>16) & 0x01\n",
    "        newTrotters[k+3] = (tmp>>24) & 0x01\n",
    "        k += 4\n",
    "    trottersList.append(newTrotters)\n",
    "        \n",
    "print(\"Kernel execution time: \" + str(np.sum(timeList)) + \" s\")"
   ]
  },
  {
   "cell_type": "code",
   "execution_count": 70,
   "metadata": {},
   "outputs": [],
   "source": [
    "# since the code about computing energy for trotters is too slow in python...\n",
    "# we dump the history of trotters and calculate energy in C\n",
    "\n",
    "with open('trottersList.txt', 'w') as f:\n",
    "    for trotters in trottersList:\n",
    "        trotters = trotters.reshape((MAX_NTROT, MAX_NSPIN)).astype('str')\n",
    "        for m in range(numTrotters):\n",
    "            f.write(f'{\" \".join(trotters[m][:numSpins])}\\n')"
   ]
  },
  {
   "cell_type": "code",
   "execution_count": 20,
   "metadata": {},
   "outputs": [],
   "source": [
    "# def compute_trotter_energy(trotter):\n",
    "#     H = 0\n",
    "#     for i in range(numSpins):\n",
    "#         for j in range(numSpins):\n",
    "#             if trotter[i] == trotter[j]:\n",
    "#                 H += J[i][j]\n",
    "#             else:\n",
    "#                 H -= J[i][j]\n",
    "#         if trotter[i]:\n",
    "#             H += h[i]\n",
    "#         else:\n",
    "#             H -= h[i]\n",
    "#     return -H"
   ]
  },
  {
   "cell_type": "code",
   "execution_count": null,
   "metadata": {},
   "outputs": [],
   "source": [
    "# bestT = None\n",
    "# bestE = 1e22\n",
    "# bestStep = None\n",
    "# sumEnergy = []\n",
    "# k = 0\n",
    "# for step, trotters in tqdm(enumerate(trottersList)):\n",
    "#     sumE = 0\n",
    "#     for t in range(numTrotters):\n",
    "#         trotter = trotters[t * MAX_NSPIN : (t+1) * MAX_NSPIN]\n",
    "#         E = compute_trotter_energy()\n",
    "#         sumE += E\n",
    "#         if E < bestE:\n",
    "#             bestE = E\n",
    "#             bestT = trotter\n",
    "#             bestStep = step\n",
    "#     sumEnergy.append(sumE)"
   ]
  },
  {
   "cell_type": "code",
   "execution_count": 71,
   "metadata": {},
   "outputs": [],
   "source": [
    "# these values are calculated in C\n",
    "\n",
    "with open(\"Ehist.txt\") as f:\n",
    "    sumEnergy = [int(x) for x in f.read().split()]\n",
    "\n",
    "bestStep = 996\n",
    "bestTrot = 0"
   ]
  },
  {
   "cell_type": "code",
   "execution_count": 72,
   "metadata": {},
   "outputs": [
    {
     "data": {
      "text/plain": [
       "[<matplotlib.lines.Line2D at 0xaee0abf0>]"
      ]
     },
     "execution_count": 72,
     "metadata": {},
     "output_type": "execute_result"
    },
    {
     "data": {
      "image/png": "[encoded data removed]",
      "text/plain": [
       "<matplotlib.figure.Figure at 0xaee25470>"
      ]
     },
     "metadata": {},
     "output_type": "display_data"
    }
   ],
   "source": [
    "plt.figure(figsize=(30,10))\n",
    "plt.plot(sumEnergy)"
   ]
  },
  {
   "cell_type": "code",
   "execution_count": 73,
   "metadata": {},
   "outputs": [
    {
     "name": "stdout",
     "output_type": "stream",
     "text": [
      "    1  6(V)     8     3     5     2     7     9     4 \n",
      "    7     4     9     1     6     8     3     2     5 \n",
      "    3     5     2     7  4(V)  9(V)     1     8     6 \n",
      "    9     7     6     8     1     5     2     4     3 \n",
      "    8     1     5     2     3     4     9     6     7 \n",
      "    2  3(V)     4  9(V)     7     6     8     5     1 \n",
      "    6     9     1     5     8     3     4     7     2 \n",
      "    5     8     3     4     2     7     6     1     9 \n",
      "    4     2     7     6     9     1     5     3     8 \n"
     ]
    }
   ],
   "source": [
    "def trotter2sudoku(trotter):\n",
    "    sudoku_out = []\n",
    "    unsolved_cnt = 0\n",
    "    multiple_sol_cnt = 0\n",
    "    wrong_answer_cnt = 0\n",
    "    for i in range(SUDOKU_BOARD_LEN):\n",
    "        for j in range(SUDOKU_BOARD_LEN):\n",
    "            node_idx = i * SUDOKU_BOARD_LEN + j\n",
    "            node_color = 0\n",
    "            for k in range(SUDOKU_BOARD_LEN):\n",
    "                node_color_idx = node_idx * SUDOKU_BOARD_LEN + k\n",
    "                if trotter[node_color_idx]:\n",
    "                    if node_color != 0: # multiple solutions\n",
    "                        node_color = -1\n",
    "                        break\n",
    "                    else:\n",
    "                        node_color = k + 1\n",
    "            if node_color == 0:\n",
    "                unsolved_cnt += 1\n",
    "            if node_color == -1:\n",
    "                multiple_sol_cnt += 1\n",
    "            if sudoku_sol[i][j] != node_color:\n",
    "                wrong_answer_cnt += 1\n",
    "            sudoku_out.append(node_color)\n",
    "            \n",
    "    sudoku_out = np.array(sudoku_out)\n",
    "    sudoku_out = sudoku_out.reshape((SUDOKU_BOARD_LEN, SUDOKU_BOARD_LEN))\n",
    "    return sudoku_out, unsolved_cnt, multiple_sol_cnt, wrong_answer_cnt\n",
    "\n",
    "def sudoku_print(sudoku_out):\n",
    "    for i in range(SUDOKU_BOARD_LEN):\n",
    "        for j in range(SUDOKU_BOARD_LEN):\n",
    "            if sudoku_out[i][j] != sudoku_sol[i][j]:\n",
    "                print(f\"{sudoku_out[i][j]:2d}[{sudoku_sol[i][j]}]\", end=\" \")\n",
    "            elif sudoku[i][j] == 0:\n",
    "                print(f\"{sudoku_out[i][j]:2d}(V)\", end=\" \")\n",
    "            else:\n",
    "                print(f\"{sudoku_out[i][j]:5d}\", end=\" \")\n",
    "        print()\n",
    "\n",
    "sudoku_out, unsolved_cnt, multiple_sol_cnt, wrong_answer_cnt = trotter2sudoku(trottersList[bestStep][bestTrot * numSpins:(bestTrot + 1) *numSpins])\n",
    "sudoku_print(sudoku_out)"
   ]
  }
 ],
 "metadata": {
  "kernelspec": {
   "display_name": "Python 3",
   "language": "python",
   "name": "python3"
  },
  "language_info": {
   "codemirror_mode": {
    "name": "ipython",
    "version": 3
   },
   "file_extension": ".py",
   "mimetype": "text/x-python",
   "name": "python",
   "nbconvert_exporter": "python",
   "pygments_lexer": "ipython3",
   "version": "3.6.5"
  }
 },
 "nbformat": 4,
 "nbformat_minor": 2
}
