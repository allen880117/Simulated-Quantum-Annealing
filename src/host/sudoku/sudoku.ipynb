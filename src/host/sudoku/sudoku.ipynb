{
 "metadata": {
  "orig_nbformat": 4,
  "kernelspec": {
   "name": "python3",
   "display_name": "Python 3",
   "language": "python"
  }
 },
 "nbformat": 4,
 "nbformat_minor": 2,
 "cells": [
  {
   "cell_type": "code",
   "execution_count": 1,
   "metadata": {},
   "outputs": [],
   "source": [
    "import numpy as np\n",
    "import networkx as nx\n",
    "from qat.opt import GraphColouring\n",
    "import qat\n",
    "from copy import deepcopy"
   ]
  },
  {
   "cell_type": "code",
   "execution_count": 2,
   "metadata": {},
   "outputs": [
    {
     "output_type": "stream",
     "name": "stdout",
     "text": [
      "[1, 6, 8, 3, 5, 2, 7, 9, 4]\n[7, 4, 9, 1, 6, 8, 3, 2, 5]\n[3, 5, 2, 7, 4, 9, 1, 8, 6]\n[9, 7, 6, 8, 1, 5, 2, 4, 3]\n[8, 1, 5, 2, 3, 4, 9, 6, 7]\n[2, 3, 4, 9, 7, 6, 8, 5, 1]\n[6, 9, 1, 5, 8, 3, 4, 7, 2]\n[5, 8, 3, 4, 2, 7, 6, 1, 9]\n[4, 2, 7, 6, 9, 1, 5, 3, 8]\n"
     ]
    }
   ],
   "source": [
    "base  = 3\n",
    "side  = base*base\n",
    "\n",
    "# pattern for a baseline valid solution\n",
    "def pattern(r,c): return (base*(r%base)+r//base+c)%side\n",
    "\n",
    "# randomize rows, columns and numbers (of valid base pattern)\n",
    "from random import sample\n",
    "def shuffle(s): return sample(s,len(s)) \n",
    "rBase = range(base) \n",
    "rows  = [ g*base + r for g in shuffle(rBase) for r in shuffle(rBase) ] \n",
    "cols  = [ g*base + c for g in shuffle(rBase) for c in shuffle(rBase) ]\n",
    "nums  = shuffle(range(1,base*base+1))\n",
    "\n",
    "# produce board using randomized baseline pattern\n",
    "board = [ [nums[pattern(r,c)] for c in cols] for r in rows ]\n",
    "\n",
    "for line in board: print(line)"
   ]
  },
  {
   "cell_type": "code",
   "execution_count": 3,
   "metadata": {},
   "outputs": [],
   "source": [
    "np.savetxt('board.ans', board, delimiter=' ', fmt='%i')"
   ]
  },
  {
   "cell_type": "code",
   "execution_count": 41,
   "metadata": {},
   "outputs": [
    {
     "output_type": "stream",
     "name": "stdout",
     "text": [
      "[1  .  8  3  5  2  .  9  .]\n[.  4  .  1  6  8  3  2  .]\n[3  5  .  7  .  9  .  8  6]\n[.  7  .  8  1  .  .  .  3]\n[8  1  5  2  .  4  9  .  7]\n[2  3  4  .  7  6  .  .  .]\n[6  .  .  .  .  3  4  7  .]\n[5  8  .  4  .  7  6  .  9]\n[4  2  7  6  9  1  .  3  .]\n"
     ]
    }
   ],
   "source": [
    "squares = side*side\n",
    "empties = 30\n",
    "board_em = deepcopy(board)\n",
    "for p in sample(range(squares),empties):\n",
    "    board_em[p//side][p%side] = 0\n",
    "\n",
    "numSize = len(str(side))\n",
    "for line in board_em: print(\"[\"+\"  \".join(f\"{n or '.':{numSize}}\" for n in line)+\"]\")"
   ]
  },
  {
   "cell_type": "code",
   "execution_count": 42,
   "metadata": {},
   "outputs": [],
   "source": [
    "np.savetxt('board.in', board_em, delimiter=' ', fmt='%i')"
   ]
  },
  {
   "cell_type": "code",
   "execution_count": 30,
   "metadata": {},
   "outputs": [],
   "source": [
    "number_of_colours = side\n",
    "\n",
    "graph = nx.Graph()\n",
    "graph.add_nodes_from(np.arange(side * side))\n",
    "\n",
    "# add edge for same row\n",
    "for row in range(side):\n",
    "    row_start_spin = row * side\n",
    "    row_end_spin = (row + 1) * side\n",
    "    for spin_from in range(row_start_spin, row_end_spin):\n",
    "        for spin_to in range(spin_from, row_end_spin):\n",
    "            if spin_from != spin_to:\n",
    "                graph.add_edges_from([(spin_from, spin_to)])\n",
    "\n",
    "# add edge for same col\n",
    "for col in range(side):\n",
    "    col_start_spin = col\n",
    "    col_end_spin = side * side + col\n",
    "    for spin_from in range(col_start_spin, col_end_spin, side):\n",
    "        for spin_to in range(spin_from, col_end_spin, side):\n",
    "            if spin_from != spin_to:\n",
    "                graph.add_edges_from([(spin_from, spin_to)])\n",
    "\n",
    "# add edge for same block\n",
    "for block_row in range(base):\n",
    "    for block_col in range(base):\n",
    "        block_spins = []\n",
    "        first_spin = block_row * (base * side) + block_col * (base)\n",
    "        for row_first_spin in range(first_spin, first_spin + side * base, side):\n",
    "            for spin in range(row_first_spin, row_first_spin + base):\n",
    "                block_spins.append(spin)\n",
    "                \n",
    "        for spin_from_idx in range(len(block_spins)):\n",
    "            for spin_to_idx in range(spin_from_idx, len(block_spins)):\n",
    "                spin_from = block_spins[spin_from_idx]\n",
    "                spin_to = block_spins[spin_to_idx]\n",
    "                if spin_from != spin_to:\n",
    "                    graph.add_edges_from([(spin_from, spin_to)])\n"
   ]
  },
  {
   "cell_type": "code",
   "execution_count": 31,
   "metadata": {},
   "outputs": [
    {
     "output_type": "stream",
     "name": "stdout",
     "text": [
      "To anneal the problem, the solver would need 729 spins.\n"
     ]
    }
   ],
   "source": [
    "graph_colouring_problem = GraphColouring(graph, number_of_colours)\n",
    "\n",
    "print(\"To anneal the problem, the solver would need \"\n",
    "      + str(len(graph.nodes()) * number_of_colours) + \" spins.\")\n"
   ]
  },
  {
   "cell_type": "code",
   "execution_count": 32,
   "metadata": {},
   "outputs": [],
   "source": [
    "J, h, offset = graph_colouring_problem.to_ising().get_j_h_and_offset()"
   ]
  },
  {
   "cell_type": "code",
   "execution_count": 25,
   "metadata": {},
   "outputs": [],
   "source": [
    "np.savetxt('J.in', J, delimiter=' ', fmt='%f')\n",
    "np.savetxt('h.in', h, delimiter=' ', fmt='%f')"
   ]
  }
 ]
}