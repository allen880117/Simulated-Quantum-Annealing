{
 "metadata": {
  "language_info": {
   "codemirror_mode": {
    "name": "ipython",
    "version": 3
   },
   "file_extension": ".py",
   "mimetype": "text/x-python",
   "name": "python",
   "nbconvert_exporter": "python",
   "pygments_lexer": "ipython3",
   "version": "3.8.5"
  },
  "orig_nbformat": 2,
  "kernelspec": {
   "name": "python385jvsc74a57bd031f2aee4e71d21fbe5cf8b01ff0e069b9275f58929596ceb00d14d90e3e16cd6",
   "display_name": "Python 3.8.5 64-bit"
  },
  "metadata": {
   "interpreter": {
    "hash": "31f2aee4e71d21fbe5cf8b01ff0e069b9275f58929596ceb00d14d90e3e16cd6"
   }
  }
 },
 "nbformat": 4,
 "nbformat_minor": 2,
 "cells": [
  {
   "cell_type": "code",
   "execution_count": 34,
   "metadata": {},
   "outputs": [],
   "source": [
    "from pyqubo import Array, Constraint, Placeholder\n",
    "import time\n",
    "import numpy as np\n",
    "import math"
   ]
  },
  {
   "cell_type": "code",
   "execution_count": 99,
   "metadata": {},
   "outputs": [],
   "source": [
    "x = []\n",
    "y = []\n",
    "# with open('../data/data.txt','r') as file:\n",
    "with open('../coeff-generator/test_data.txt','r') as file:\n",
    "    for line in file:\n",
    "        cord = line.split()[:2]\n",
    "        tx = float(cord[0])\n",
    "        ty = float(cord[1])\n",
    "        x.append(tx)\n",
    "        y.append(ty)"
   ]
  },
  {
   "cell_type": "code",
   "execution_count": 100,
   "metadata": {},
   "outputs": [],
   "source": [
    "ncity = 3\n",
    "city_distance = np.zeros((ncity, ncity), dtype=np.float64)\n",
    "for i in range(0, ncity):\n",
    "    for j in range(i + 1, ncity):\n",
    "        city_distance[i][j] = math.sqrt((x[i] - x[j]) ** 2 + (y[i] - y[j]) ** 2)\n",
    "        city_distance[j][i] = city_distance[i][j]"
   ]
  },
  {
   "cell_type": "code",
   "execution_count": 106,
   "metadata": {},
   "outputs": [],
   "source": [
    "n_city = ncity\n",
    "\n",
    "t0 = time.time()\n",
    "x = Array.create('c', (n_city, n_city), 'BINARY')\n",
    "\n",
    "# Constraint not to visit more than two cities at the same time.\n",
    "time_const = 0.0\n",
    "for i in range(n_city):\n",
    "    # If you wrap the hamiltonian by Const(...), this part is recognized as constraint\n",
    "    time_const += Constraint((sum(x[i, j] for j in range(n_city)) - 1)**2, label=\"time{}\".format(i))\n",
    "\n",
    "# Constraint not to visit the same city more than twice.\n",
    "city_const = 0.0\n",
    "for j in range(n_city):\n",
    "    city_const += Constraint((sum(x[i, j] for i in range(n_city)) - 1)**2, label=\"city{}\".format(j))\n",
    "\n",
    "# distance of route\n",
    "distance = 0.0\n",
    "for k in range(n_city):\n",
    "    for i in range(n_city):\n",
    "        for j in range(n_city):\n",
    "            # we set the constant distance\n",
    "            d_ij = city_distance[i][j]\n",
    "            distance += 0.5 * d_ij * x[k, i] * (x[(k+1)%n_city, j] + x[(k-1)%n_city, j])\n",
    "\n",
    "# Construct hamiltonian\n",
    "A = Placeholder(\"A\")\n",
    "H = distance + A * (time_const + city_const)\n",
    "\n",
    "# Compile model\n",
    "t1 = time.time()\n",
    "model = H.compile()\n",
    "qubo, offset = model.to_qubo(index_label=True, feed_dict={\"A\": 2.0})\n",
    "linear,quadratic,offset = model.to_ising(index_label=True, feed_dict={\"A\": 1.0})\n",
    "t2 = time.time()"
   ]
  },
  {
   "cell_type": "code",
   "execution_count": 107,
   "metadata": {
    "tags": []
   },
   "outputs": [
    {
     "output_type": "execute_result",
     "data": {
      "text/plain": [
       "{0: 3.1213203435596424,\n",
       " 1: 3.121320343559643,\n",
       " 2: 3.121320343559643,\n",
       " 3: 3.121320343559643,\n",
       " 4: 3.121320343559643,\n",
       " 5: 3.1213203435596424,\n",
       " 6: 2.4142135623730954,\n",
       " 7: 2.4142135623730954,\n",
       " 8: 2.4142135623730954}"
      ]
     },
     "metadata": {},
     "execution_count": 107
    }
   ],
   "source": [
    "linear = dict(sorted(linear.items(), key=lambda x: x[0]))\n",
    "with open('linear.txt','w') as file:\n",
    "    for key,value in linear.items():\n",
    "        file.write(str(key)+\" \"+str(value)+\"\\n\")\n",
    "linear"
   ]
  },
  {
   "cell_type": "code",
   "execution_count": 108,
   "metadata": {},
   "outputs": [
    {
     "output_type": "execute_result",
     "data": {
      "text/plain": [
       "array([[0.        , 2.41421356, 2.41421356, 2.41421356, 2.41421356,\n",
       "        2.41421356, 2.41421356, 2.41421356, 2.41421356],\n",
       "       [0.        , 0.        , 2.41421356, 2.41421356, 2.41421356,\n",
       "        2.41421356, 2.41421356, 2.41421356, 2.41421356],\n",
       "       [0.        , 0.        , 0.        , 2.41421356, 2.41421356,\n",
       "        2.41421356, 2.41421356, 2.41421356, 2.41421356],\n",
       "       [0.        , 0.        , 0.        , 0.        , 2.41421356,\n",
       "        2.41421356, 2.41421356, 2.41421356, 2.41421356],\n",
       "       [0.        , 0.        , 0.        , 0.        , 0.        ,\n",
       "        2.41421356, 2.41421356, 2.41421356, 2.41421356],\n",
       "       [0.        , 0.        , 0.        , 0.        , 0.        ,\n",
       "        0.        , 2.41421356, 2.41421356, 2.41421356],\n",
       "       [0.        , 0.        , 0.        , 0.        , 0.        ,\n",
       "        0.        , 0.        , 2.41421356, 2.41421356],\n",
       "       [0.        , 0.        , 0.        , 0.        , 0.        ,\n",
       "        0.        , 0.        , 0.        , 2.41421356],\n",
       "       [0.        , 0.        , 0.        , 0.        , 0.        ,\n",
       "        0.        , 0.        , 0.        , 0.        ]])"
      ]
     },
     "metadata": {},
     "execution_count": 108
    }
   ],
   "source": [
    "a = np.zeros((ncity**2, ncity**2))\n",
    "for key, valuie in quadratic.items():\n",
    "    a[key] = value\n",
    "a"
   ]
  },
  {
   "cell_type": "code",
   "execution_count": 109,
   "metadata": {},
   "outputs": [],
   "source": [
    "quadratic = dict(sorted(quadratic.items(), key=lambda x: x[0]))\n",
    "with open('quadratic.txt','w') as file:\n",
    "    for key,value in quadratic.items():\n",
    "        file.write(str(key[0])+\" \"+str(key[1])+\" \"+str(value)+\"\\n\")"
   ]
  },
  {
   "cell_type": "code",
   "execution_count": 110,
   "metadata": {},
   "outputs": [
    {
     "output_type": "execute_result",
     "data": {
      "text/plain": [
       "14.485281374238568"
      ]
     },
     "metadata": {},
     "execution_count": 110
    }
   ],
   "source": [
    "offset"
   ]
  },
  {
   "cell_type": "code",
   "execution_count": null,
   "metadata": {},
   "outputs": [],
   "source": []
  }
 ]
}