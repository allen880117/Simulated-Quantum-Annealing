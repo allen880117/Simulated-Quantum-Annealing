{
 "metadata": {
  "language_info": {
   "codemirror_mode": {
    "name": "ipython",
    "version": 3
   },
   "file_extension": ".py",
   "mimetype": "text/x-python",
   "name": "python",
   "nbconvert_exporter": "python",
   "pygments_lexer": "ipython3",
   "version": "3.8.5"
  },
  "orig_nbformat": 2,
  "kernelspec": {
   "name": "python385jvsc74a57bd031f2aee4e71d21fbe5cf8b01ff0e069b9275f58929596ceb00d14d90e3e16cd6",
   "display_name": "Python 3.8.5 64-bit"
  },
  "metadata": {
   "interpreter": {
    "hash": "31f2aee4e71d21fbe5cf8b01ff0e069b9275f58929596ceb00d14d90e3e16cd6"
   }
  }
 },
 "nbformat": 4,
 "nbformat_minor": 2,
 "cells": [
  {
   "cell_type": "code",
   "execution_count": 5,
   "metadata": {},
   "outputs": [],
   "source": [
    "from pyqubo import Array, Constraint, Placeholder\n",
    "import time\n",
    "import numpy as np\n",
    "import math"
   ]
  },
  {
   "cell_type": "code",
   "execution_count": 6,
   "metadata": {},
   "outputs": [],
   "source": [
    "x = []\n",
    "y = []\n",
    "with open('../data/data2.txt','r') as file:\n",
    "# with open('../coeff-generator/test_data.txt','r') as file:\n",
    "    for line in file:\n",
    "        cord = line.split()[:2]\n",
    "        tx = float(cord[0])\n",
    "        ty = float(cord[1])\n",
    "        x.append(tx)\n",
    "        y.append(ty)"
   ]
  },
  {
   "cell_type": "code",
   "execution_count": 7,
   "metadata": {},
   "outputs": [],
   "source": [
    "ncity = len(x)\n",
    "city_distance = np.zeros((ncity, ncity), dtype=np.float64)\n",
    "for i in range(0, ncity):\n",
    "    for j in range(i + 1, ncity):\n",
    "        city_distance[i][j] = math.sqrt((x[i] - x[j]) ** 2 + (y[i] - y[j]) ** 2)\n",
    "        city_distance[j][i] = city_distance[i][j]"
   ]
  },
  {
   "cell_type": "code",
   "execution_count": 55,
   "metadata": {},
   "outputs": [],
   "source": [
    "n_city = ncity\n",
    "\n",
    "t0 = time.time()\n",
    "x = Array.create('c', (n_city, n_city), 'BINARY')\n",
    "\n",
    "# Constraint not to visit more than two cities at the same time.\n",
    "time_const = 0.0\n",
    "for i in range(n_city):\n",
    "    # If you wrap the hamiltonian by Const(...), this part is recognized as constraint\n",
    "    time_const += Constraint((sum(x[i, j] for j in range(n_city)) - 1)**2, label=\"time{}\".format(i))\n",
    "\n",
    "# Constraint not to visit the same city more than twice.\n",
    "city_const = 0.0\n",
    "for j in range(n_city):\n",
    "    city_const += Constraint((sum(x[i, j] for i in range(n_city)) - 1)**2, label=\"city{}\".format(j))\n",
    "\n",
    "# distance of route\n",
    "distance = 0.0\n",
    "for k in range(n_city):\n",
    "    for i in range(n_city):\n",
    "        for j in range(n_city):\n",
    "            # we set the constant distance\n",
    "            d_ij = city_distance[i][j]\n",
    "            distance += 0.5 * d_ij * x[k, i] * (x[(k+1)%n_city, j] + x[(k-1)%n_city, j])\n",
    "\n",
    "# Construct hamiltonian\n",
    "A = Placeholder(\"A\")\n",
    "H = distance + A * (time_const + city_const)\n",
    "\n",
    "# Compile model\n",
    "t1 = time.time()\n",
    "model = H.compile()\n",
    "qubo, offset = model.to_qubo(index_label=True, feed_dict={\"A\": 2.0})\n",
    "linear,quadratic,offset = model.to_ising(index_label=True, feed_dict={\"A\": 2.0})\n",
    "t2 = time.time()"
   ]
  },
  {
   "cell_type": "code",
   "execution_count": 56,
   "metadata": {
    "tags": []
   },
   "outputs": [
    {
     "output_type": "execute_result",
     "data": {
      "text/plain": [
       "{0: 922.0647231072853,\n",
       " 1: 922.0647231072853,\n",
       " 2: 922.0647231072853,\n",
       " 3: 922.0647231072852,\n",
       " 4: 922.0647231072853,\n",
       " 5: 922.0647231072853,\n",
       " 6: 930.6817768903917,\n",
       " 7: 930.6817768903916,\n",
       " 8: 930.6817768903916,\n",
       " 9: 930.6817768903917,\n",
       " 10: 930.6817768903917,\n",
       " 11: 930.6817768903917,\n",
       " 12: 791.8354455699921,\n",
       " 13: 791.8354455699922,\n",
       " 14: 791.8354455699922,\n",
       " 15: 791.8354455699922,\n",
       " 16: 791.8354455699923,\n",
       " 17: 791.8354455699924,\n",
       " 18: 866.8202771376082,\n",
       " 19: 866.8202771376082,\n",
       " 20: 866.8202771376082,\n",
       " 21: 866.8202771376081,\n",
       " 22: 866.8202771376082,\n",
       " 23: 866.8202771376082,\n",
       " 24: 1693.0210516454845,\n",
       " 25: 1693.0210516454845,\n",
       " 26: 1693.0210516454845,\n",
       " 27: 1693.0210516454847,\n",
       " 28: 1693.0210516454845,\n",
       " 29: 1693.0210516454845,\n",
       " 30: 1120.5663900263744,\n",
       " 31: 1120.5663900263744,\n",
       " 32: 1120.5663900263744,\n",
       " 33: 1120.5663900263744,\n",
       " 34: 1120.5663900263744,\n",
       " 35: 1120.5663900263744}"
      ]
     },
     "metadata": {},
     "execution_count": 56
    }
   ],
   "source": [
    "linear = dict(sorted(linear.items(), key=lambda x: x[0]))\n",
    "with open('linear.txt','w') as file:\n",
    "    for key,value in linear.items():\n",
    "        file.write(str(key)+\" \"+str(value)+\"\\n\")\n",
    "linear"
   ]
  },
  {
   "cell_type": "code",
   "execution_count": 57,
   "metadata": {},
   "outputs": [
    {
     "output_type": "execute_result",
     "data": {
      "text/plain": [
       "array([[   0.        , 1120.56639003, 1120.56639003, ...,    0.        ,\n",
       "        1120.56639003,    0.        ],\n",
       "       [   0.        ,    0.        , 1120.56639003, ...,    0.        ,\n",
       "           0.        ,    0.        ],\n",
       "       [   0.        ,    0.        ,    0.        , ..., 1120.56639003,\n",
       "           0.        ,    0.        ],\n",
       "       ...,\n",
       "       [   0.        ,    0.        ,    0.        , ...,    0.        ,\n",
       "        1120.56639003, 1120.56639003],\n",
       "       [   0.        ,    0.        ,    0.        , ...,    0.        ,\n",
       "           0.        , 1120.56639003],\n",
       "       [   0.        ,    0.        ,    0.        , ...,    0.        ,\n",
       "           0.        ,    0.        ]])"
      ]
     },
     "metadata": {},
     "execution_count": 57
    }
   ],
   "source": [
    "a = np.zeros((ncity**2, ncity**2))\n",
    "for key, valuie in quadratic.items():\n",
    "    a[key] = value\n",
    "a"
   ]
  },
  {
   "cell_type": "code",
   "execution_count": 58,
   "metadata": {},
   "outputs": [],
   "source": [
    "quadratic = dict(sorted(quadratic.items(), key=lambda x: x[0]))\n",
    "with open('quadratic.txt','w') as file:\n",
    "    for key,value in quadratic.items():\n",
    "        file.write(str(key[0])+\" \"+str(key[1])+\" \"+str(value)+\"\\n\")"
   ]
  },
  {
   "cell_type": "code",
   "execution_count": 59,
   "metadata": {},
   "outputs": [],
   "source": [
    "offset\n",
    "with open('offset.txt','w') as file:\n",
    "    file.write(str(offset)+\"\\n\")"
   ]
  },
  {
   "cell_type": "code",
   "execution_count": 60,
   "metadata": {},
   "outputs": [
    {
     "output_type": "execute_result",
     "data": {
      "text/plain": [
       "18962.968993131424"
      ]
     },
     "metadata": {},
     "execution_count": 60
    }
   ],
   "source": [
    "offset"
   ]
  },
  {
   "cell_type": "code",
   "execution_count": null,
   "metadata": {},
   "outputs": [],
   "source": []
  },
  {
   "cell_type": "code",
   "execution_count": null,
   "metadata": {},
   "outputs": [],
   "source": []
  }
 ]
}