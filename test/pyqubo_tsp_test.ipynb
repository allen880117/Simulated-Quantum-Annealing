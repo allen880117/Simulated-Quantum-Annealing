{
 "metadata": {
  "language_info": {
   "codemirror_mode": {
    "name": "ipython",
    "version": 3
   },
   "file_extension": ".py",
   "mimetype": "text/x-python",
   "name": "python",
   "nbconvert_exporter": "python",
   "pygments_lexer": "ipython3",
   "version": "3.8.5"
  },
  "orig_nbformat": 2,
  "kernelspec": {
   "name": "python3",
   "display_name": "Python 3",
   "language": "python"
  }
 },
 "nbformat": 4,
 "nbformat_minor": 2,
 "cells": [
  {
   "cell_type": "code",
   "execution_count": 110,
   "metadata": {},
   "outputs": [],
   "source": [
    "from pyqubo import Array, Constraint, Placeholder\n",
    "import time"
   ]
  },
  {
   "cell_type": "code",
   "execution_count": 115,
   "metadata": {},
   "outputs": [],
   "source": [
    "n_city = 2\n",
    "\n",
    "t0 = time.time()\n",
    "x = Array.create('c', (n_city, n_city), 'BINARY')\n",
    "\n",
    "# Constraint not to visit more than two cities at the same time.\n",
    "time_const = 0.0\n",
    "for i in range(n_city):\n",
    "    # If you wrap the hamiltonian by Const(...), this part is recognized as constraint\n",
    "    time_const += Constraint((sum(x[i, j] for j in range(n_city)) - 1)**2, label=\"time{}\".format(i))\n",
    "\n",
    "# Constraint not to visit the same city more than twice.\n",
    "city_const = 0.0\n",
    "for j in range(n_city):\n",
    "    city_const += Constraint((sum(x[i, j] for i in range(n_city)) - 1)**2, label=\"city{}\".format(j))\n",
    "\n",
    "# distance of route\n",
    "distance = 0.0\n",
    "for i in range(n_city):\n",
    "    for j in range(n_city):\n",
    "        for k in range(n_city):\n",
    "            # we set the constant distance\n",
    "            d_ij = abs(i-j)\n",
    "            distance += d_ij * x[k, i] * (x[(k+1)%n_city, j] + x[(k-1)%n_city, j])\n",
    "\n",
    "# Construct hamiltonian\n",
    "A = Placeholder(\"A\")\n",
    "H = distance + A * (time_const + city_const)\n",
    "\n",
    "# Compile model\n",
    "t1 = time.time()\n",
    "model = H.compile()\n",
    "qubo, offset = model.to_qubo(index_label=True, feed_dict={\"A\": 2.0})\n",
    "l,q,o = model.to_ising(index_label=True, feed_dict={\"A\": 2.0})\n",
    "t2 = time.time()"
   ]
  },
  {
   "cell_type": "code",
   "execution_count": 116,
   "metadata": {},
   "outputs": [
    {
     "output_type": "execute_result",
     "data": {
      "text/plain": [
       "[(0, 1.0), (1, 1.0), (2, 1.0), (3, 1.0)]"
      ]
     },
     "metadata": {},
     "execution_count": 116
    }
   ],
   "source": [
    "sorted(l.items(), key=lambda x:x[0])"
   ]
  },
  {
   "cell_type": "code",
   "execution_count": 117,
   "metadata": {},
   "outputs": [
    {
     "output_type": "execute_result",
     "data": {
      "text/plain": [
       "array([[0., 1., 1., 1.],\n",
       "       [0., 0., 1., 1.],\n",
       "       [0., 0., 0., 1.],\n",
       "       [0., 0., 0., 0.]])"
      ]
     },
     "metadata": {},
     "execution_count": 117
    }
   ],
   "source": [
    "import numpy as np\n",
    "a = np.zeros((n_city**2, n_city**2))\n",
    "\n",
    "for key,value in q.items():\n",
    "    a[key] = value\n",
    "a"
   ]
  },
  {
   "cell_type": "code",
   "execution_count": 118,
   "metadata": {},
   "outputs": [
    {
     "output_type": "execute_result",
     "data": {
      "text/plain": [
       "6.0"
      ]
     },
     "metadata": {},
     "execution_count": 118
    }
   ],
   "source": [
    "o"
   ]
  },
  {
   "cell_type": "code",
   "execution_count": null,
   "metadata": {},
   "outputs": [],
   "source": []
  }
 ]
}