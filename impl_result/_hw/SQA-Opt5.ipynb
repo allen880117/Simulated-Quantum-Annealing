{
 "cells": [
  {
   "cell_type": "code",
   "execution_count": 15,
   "metadata": {},
   "outputs": [],
   "source": [
    "from __future__ import print_function\n",
    "\n",
    "import sys\n",
    "import numpy as np\n",
    "from time import time\n",
    "import matplotlib.pyplot as plt \n",
    "from tqdm import tqdm\n",
    "import math\n",
    "import struct\n",
    "import binascii\n",
    "\n",
    "sys.path.append('/home/xilinx')\n",
    "from pynq import Overlay\n",
    "from pynq import allocate"
   ]
  },
  {
   "cell_type": "code",
   "execution_count": 16,
   "metadata": {},
   "outputs": [],
   "source": [
    "def float2bytes(fp):\n",
    "    packNo = struct.pack('>f', np.float32(fp))\n",
    "    return int(binascii.b2a_hex(packNo), 16)"
   ]
  },
  {
   "cell_type": "code",
   "execution_count": 17,
   "metadata": {},
   "outputs": [
    {
     "name": "stdout",
     "output_type": "stream",
     "text": [
      "Entry: /usr/lib/python3/dist-packages/ipykernel_launcher.py\n",
      "System argument(s): 3\n",
      "Start of \"/usr/lib/python3/dist-packages/ipykernel_launcher.py\"\n"
     ]
    }
   ],
   "source": [
    "print(\"Entry:\", sys.argv[0])\n",
    "print(\"System argument(s):\", len(sys.argv))\n",
    "print(\"Start of \\\"\" + sys.argv[0] + \"\\\"\")"
   ]
  },
  {
   "cell_type": "code",
   "execution_count": 18,
   "metadata": {},
   "outputs": [],
   "source": [
    "# Overlay and IP\n",
    "ol = Overlay(\"/home/xilinx/xrwang/SQA_Opt5.bit\")\n",
    "ipSQA = ol.QuantumMonteCarloOpt5_0\n",
    "ipDMAIn = ol.axi_dma_0"
   ]
  },
  {
   "cell_type": "code",
   "execution_count": 19,
   "metadata": {},
   "outputs": [],
   "source": [
    "MAX_NTROT=8\n",
    "MAX_NSPIN=1024"
   ]
  },
  {
   "cell_type": "code",
   "execution_count": 20,
   "metadata": {},
   "outputs": [
    {
     "name": "stderr",
     "output_type": "stream",
     "text": [
      "100%|██████████| 2048/2048 [00:00<00:00, 11539.76it/s]\n"
     ]
    }
   ],
   "source": [
    "# Number of Spins and Number of Trotters and Wirte Trotters\n",
    "numSpins = 1024\n",
    "numTrotters = 8\n",
    "trotters = np.random.randint(2, size=(MAX_NTROT*MAX_NSPIN))\n",
    "k = 0\n",
    "for addr in tqdm(range(0x400, 0x2400, 0x04)):\n",
    "    # 8 * 1024 * 1 Byte (it extend boolean into uint8)\n",
    "    tmp = (trotters[k+3] << 24) + (trotters[k+2] << 16) + (trotters[k+1] << 8) + (trotters[k])\n",
    "    ipSQA.write(addr, int(tmp))\n",
    "    k += 4"
   ]
  },
  {
   "cell_type": "code",
   "execution_count": 21,
   "metadata": {},
   "outputs": [
    {
     "name": "stderr",
     "output_type": "stream",
     "text": [
      "100%|██████████| 1024/1024 [00:00<00:00, 63636.69it/s]\n"
     ]
    }
   ],
   "source": [
    "# Generate Random Numbers\n",
    "rndNum = np.ndarray(shape=(numSpins), dtype=np.float32)\n",
    "for i in tqdm(range(numSpins)):\n",
    "#         rndNum[i] = np.random.randn()\n",
    "    rndNum[i] = i+1\n",
    "rndNum /= numSpins"
   ]
  },
  {
   "cell_type": "code",
   "execution_count": 22,
   "metadata": {},
   "outputs": [
    {
     "data": {
      "text/plain": [
       "array([  9.76562500e-04,   1.95312500e-03,   2.92968750e-03, ...,\n",
       "         9.98046875e-01,   9.99023438e-01,   1.00000000e+00], dtype=float32)"
      ]
     },
     "execution_count": 22,
     "metadata": {},
     "output_type": "execute_result"
    }
   ],
   "source": [
    "rndNum"
   ]
  },
  {
   "cell_type": "code",
   "execution_count": 23,
   "metadata": {},
   "outputs": [
    {
     "name": "stderr",
     "output_type": "stream",
     "text": [
      "100%|██████████| 1024/1024 [00:10<00:00, 100.01it/s]\n"
     ]
    }
   ],
   "source": [
    "# Generate J coupling\n",
    "inBuffer0 = allocate(shape=(numSpins*numSpins), dtype=np.float32)\n",
    "for i in tqdm(range(numSpins)):\n",
    "    for j in range(numSpins):\n",
    "        inBuffer0[i*numSpins+j] = - rndNum[i] * rndNum[j]"
   ]
  },
  {
   "cell_type": "code",
   "execution_count": 24,
   "metadata": {},
   "outputs": [],
   "source": [
    "# Some Constant Kernel Arguments    \n",
    "ipSQA.write(0x10, numTrotters) # nTrot\n",
    "ipSQA.write(0x18, numSpins) # nSpin\n",
    "for addr in range(0x2400, 0x3400, 0x04):\n",
    "    ipSQA.write(addr, 0) # h[i]"
   ]
  },
  {
   "cell_type": "code",
   "execution_count": 25,
   "metadata": {},
   "outputs": [
    {
     "name": "stderr",
     "output_type": "stream",
     "text": [
      "100%|██████████| 500/500 [01:47<00:00,  4.66it/s]"
     ]
    },
    {
     "name": "stdout",
     "output_type": "stream",
     "text": [
      "Kernel execution time: 62.5148866177 s\n"
     ]
    },
    {
     "name": "stderr",
     "output_type": "stream",
     "text": [
      "\n"
     ]
    }
   ],
   "source": [
    "# Iterations Parameters\n",
    "iter = 500\n",
    "maxBeta = 8.0\n",
    "Beta = 1.0 / 4096.0\n",
    "G0 = 8.0\n",
    "dBeta = (maxBeta-Beta) / iter\n",
    "\n",
    "# Iterations\n",
    "timeList = []\n",
    "trottersList = []\n",
    "\n",
    "for i in tqdm(range(iter)):\n",
    "\n",
    "#     # Write Random Numbers (8*1024*4Bytes)\n",
    "#     rn = np.random.uniform(0.0, 1.0, size=numTrotters*numSpins)\n",
    "#     rn = np.log(rn) * numTrotters\n",
    "\n",
    "    # Generate Jperp\n",
    "    Gamma = G0 * (1.0 - i/iter)\n",
    "    Jperp = -0.5 * np.log(np.tanh((Gamma/numTrotters) * Beta)) / Beta\n",
    "\n",
    "#     # Write Random Nubmers\n",
    "#     k = 0\n",
    "#     for addr in range(0x4000, 0xC000, 0x04):\n",
    "#         ipSQA.write(addr, float2bytes(rn[k]))\n",
    "#         k += 1\n",
    "\n",
    "    # Write Beta & Jperp\n",
    "    ipSQA.write(0x3400, float2bytes(Jperp))\n",
    "    ipSQA.write(0x3408, float2bytes(Beta))\n",
    "    \n",
    "    timeKernelStart = time()\n",
    "    # Start Kernel\n",
    "    ipSQA.write(0x00, 0x01)\n",
    "\n",
    "    # Write Jcoup Stream\n",
    "    ipDMAIn.sendchannel.transfer(inBuffer0) # Stream of Jcoup\n",
    "    ipDMAIn.sendchannel.wait()\n",
    "\n",
    "    # Wait at Here\n",
    "    while (ipSQA.read(0x00) & 0x04) == 0x0:\n",
    "        continue\n",
    "    \n",
    "    timeKernelEnd = time()\n",
    "    timeList.append(timeKernelEnd - timeKernelStart)\n",
    "    \n",
    "    # Beta Incremental\n",
    "    Beta += dBeta\n",
    "    \n",
    "    k = 0\n",
    "    newTrotters=np.ndarray(shape=MAX_NTROT*MAX_NSPIN)\n",
    "    for addr in range(0x400, 0x2400, 0x04):\n",
    "        # 8 * 1024 * 1 Byte (it extend boolean into uint8)\n",
    "        tmp = ipSQA.read(addr)\n",
    "        newTrotters[k] = (tmp) & 0x01\n",
    "        newTrotters[k+1] = (tmp>>8) & 0x01\n",
    "        newTrotters[k+2] = (tmp>>16) & 0x01\n",
    "        newTrotters[k+3] = (tmp>>24) & 0x01\n",
    "        k += 4\n",
    "    trottersList.append(newTrotters)\n",
    "    \n",
    "    \n",
    "print(\"Kernel execution time: \" + str(np.sum(timeList)) + \" s\")"
   ]
  },
  {
   "cell_type": "code",
   "execution_count": 26,
   "metadata": {},
   "outputs": [
    {
     "name": "stderr",
     "output_type": "stream",
     "text": [
      "100%|██████████| 500/500 [00:55<00:00,  8.86it/s]\n"
     ]
    }
   ],
   "source": [
    "best = (0,0,0,0,10e22)\n",
    "sumEnergy = []\n",
    "k = 0\n",
    "for trotters in tqdm(trottersList):\n",
    "    a = 0\n",
    "    b = 0\n",
    "    sumE = 0\n",
    "    k += 1\n",
    "    for t in range(numTrotters):\n",
    "        for i in range(numSpins):\n",
    "            if trotters[t*MAX_NSPIN+i] == 0:\n",
    "                a += rndNum[i]\n",
    "            else:\n",
    "                b += rndNum[i]\n",
    "        E = (a-b)**2\n",
    "        sumE += E\n",
    "        if best[4] > E :\n",
    "            best = (k, t, a, b, E)\n",
    "    sumEnergy.append(sumE)"
   ]
  },
  {
   "cell_type": "code",
   "execution_count": 27,
   "metadata": {},
   "outputs": [
    {
     "data": {
      "text/plain": [
       "[<matplotlib.lines.Line2D at 0xaf36d1b0>]"
      ]
     },
     "execution_count": 27,
     "metadata": {},
     "output_type": "execute_result"
    },
    {
     "data": {
      "image/png": "[encoded data removed]",
      "text/plain": [
       "<matplotlib.figure.Figure at 0xaf37c990>"
      ]
     },
     "metadata": {},
     "output_type": "display_data"
    }
   ],
   "source": [
    "plt.figure(figsize=(30,10))\n",
    "plt.plot(sumEnergy)"
   ]
  },
  {
   "cell_type": "code",
   "execution_count": 28,
   "metadata": {},
   "outputs": [
    {
     "data": {
      "text/plain": [
       "(278, 6, 1793.75, 1793.75, 0.0)"
      ]
     },
     "execution_count": 28,
     "metadata": {},
     "output_type": "execute_result"
    }
   ],
   "source": [
    "best"
   ]
  }
 ],
 "metadata": {
  "kernelspec": {
   "display_name": "Python 3",
   "language": "python",
   "name": "python3"
  },
  "language_info": {
   "codemirror_mode": {
    "name": "ipython",
    "version": 3
   },
   "file_extension": ".py",
   "mimetype": "text/x-python",
   "name": "python",
   "nbconvert_exporter": "python",
   "pygments_lexer": "ipython3",
   "version": "3.6.5"
  }
 },
 "nbformat": 4,
 "nbformat_minor": 2
}
